{
 "cells": [
  {
   "cell_type": "code",
   "execution_count": 1,
   "metadata": {
    "collapsed": true
   },
   "outputs": [],
   "source": [
    "import numpy as np\n"
   ]
  },
  {
   "cell_type": "code",
   "execution_count": 5,
   "metadata": {},
   "outputs": [
    {
     "name": "stdout",
     "output_type": "stream",
     "text": [
      "[[ 0  1  2  3  4]\n",
      " [ 5  6  7  8  9]\n",
      " [10 11 12 13 14]]\n"
     ]
    }
   ],
   "source": [
    "a = np.arange(15).reshape(3,5)\n",
    "print(a)"
   ]
  },
  {
   "cell_type": "code",
   "execution_count": 13,
   "metadata": {},
   "outputs": [
    {
     "name": "stdout",
     "output_type": "stream",
     "text": [
      "(3, 5)\n",
      "15\n",
      "4\n",
      "<class 'numpy.ndarray'>\n"
     ]
    },
    {
     "data": {
      "text/plain": [
       "<function ndarray.all>"
      ]
     },
     "execution_count": 13,
     "metadata": {},
     "output_type": "execute_result"
    }
   ],
   "source": [
    "print(a.shape)\n",
    "print(a.size)\n",
    "print(a.itemsize)\n",
    "print(type(a))\n"
   ]
  },
  {
   "cell_type": "code",
   "execution_count": 18,
   "metadata": {},
   "outputs": [
    {
     "name": "stdout",
     "output_type": "stream",
     "text": [
      "[ 0  1  2  3  4  5  6  7  8  9 10 11 12 13 14]\n",
      "2\n"
     ]
    }
   ],
   "source": [
    "print(a.base)\n",
    "print(a.ndim)"
   ]
  },
  {
   "cell_type": "code",
   "execution_count": 22,
   "metadata": {},
   "outputs": [
    {
     "name": "stdout",
     "output_type": "stream",
     "text": [
      "[6 7 8]\n",
      "<class 'numpy.ndarray'>\n"
     ]
    }
   ],
   "source": [
    "b = np.array([6,7,8])\n",
    "print(b)\n",
    "print(type(b))"
   ]
  },
  {
   "cell_type": "code",
   "execution_count": 27,
   "metadata": {},
   "outputs": [
    {
     "name": "stdout",
     "output_type": "stream",
     "text": [
      "[2 3 4]\n",
      "int32\n",
      "3\n",
      "4\n"
     ]
    }
   ],
   "source": [
    "#Several  ways to create an arrays\n",
    "a = np.array([2,3,4])\n",
    "print(a)\n",
    "print(a.dtype)\n",
    "print(a.size)\n",
    "print(a.itemsize)"
   ]
  },
  {
   "cell_type": "code",
   "execution_count": 30,
   "metadata": {
    "collapsed": true
   },
   "outputs": [],
   "source": [
    "# a = np.array(1,2,3,4) Error\n",
    "a = np.array([1,2,3,4]) #RIGHT"
   ]
  },
  {
   "cell_type": "code",
   "execution_count": 37,
   "metadata": {},
   "outputs": [
    {
     "name": "stdout",
     "output_type": "stream",
     "text": [
      "[[ 1.5  2.   3. ]\n",
      " [ 4.   5.   6. ]]\n",
      "<class 'numpy.ndarray'>\n",
      "8\n",
      "6\n",
      "float64\n"
     ]
    }
   ],
   "source": [
    "b = np.array([(1.5,2,3),(4,5,6)])\n",
    "print(b)\n",
    "print(type(b))\n",
    "print(b.itemsize) #float\n",
    "print(b.size)\n",
    "print(b.dtype)"
   ]
  },
  {
   "cell_type": "code",
   "execution_count": 40,
   "metadata": {},
   "outputs": [
    {
     "name": "stdout",
     "output_type": "stream",
     "text": [
      "[[1 2]\n",
      " [3 4]]\n",
      "int32\n",
      "[[ 1.+0.j  2.+0.j]\n",
      " [ 3.+0.j  4.+0.j]]\n",
      "complex128\n"
     ]
    }
   ],
   "source": [
    "b = np.array([[1,2],[3,4]])\n",
    "print(b)\n",
    "print(b.dtype)\n",
    "c = np.array([[1,2],[3,4]], dtype=complex)\n",
    "print(c)\n",
    "print(c.dtype)"
   ]
  },
  {
   "cell_type": "code",
   "execution_count": 54,
   "metadata": {},
   "outputs": [
    {
     "name": "stdout",
     "output_type": "stream",
     "text": [
      "[[ 0.  0.  0.  0.]\n",
      " [ 0.  0.  0.  0.]\n",
      " [ 0.  0.  0.  0.]]\n",
      "float64\n",
      "------------------------------------\n",
      "[[[1 1 1 1]\n",
      "  [1 1 1 1]\n",
      "  [1 1 1 1]]\n",
      "\n",
      " [[1 1 1 1]\n",
      "  [1 1 1 1]\n",
      "  [1 1 1 1]]]\n",
      "24\n",
      "int16\n",
      "2\n",
      "--------------------------------------\n",
      "[[ 0.  0.  0.]\n",
      " [ 0.  0.  0.]]\n",
      "float64\n"
     ]
    }
   ],
   "source": [
    "zeros_array = np.zeros((3,4))\n",
    "print(zeros_array)\n",
    "print(zeros_array.dtype)\n",
    "print('------------------------------------')\n",
    "#------------\n",
    "ones_array = np.ones((2,3,4), dtype=np.int16)\n",
    "print(ones_array)\n",
    "print(ones_array.size)\n",
    "print(ones_array.dtype)\n",
    "print(ones_array.itemsize)\n",
    "ones_array\n",
    "#------------------------\n",
    "print(\"--------------------------------------\")\n",
    "\n",
    "empty_array = np.empty((2,3))\n",
    "print(empty_array)\n",
    "print(empty_array.dtype)"
   ]
  },
  {
   "cell_type": "code",
   "execution_count": 56,
   "metadata": {},
   "outputs": [
    {
     "name": "stdout",
     "output_type": "stream",
     "text": [
      "[10 15 20 25]\n",
      "[ 0.   0.3  0.6  0.9  1.2  1.5  1.8]\n"
     ]
    }
   ],
   "source": [
    "#Range array\n",
    "a = np.arange(10,30,5)\n",
    "print(a)\n",
    "b = np.arange(0,2,0.3)\n",
    "print(b)"
   ]
  },
  {
   "cell_type": "code",
   "execution_count": 3,
   "metadata": {},
   "outputs": [
    {
     "name": "stdout",
     "output_type": "stream",
     "text": [
      "[ 0.    0.25  0.5   0.75  1.    1.25  1.5   1.75  2.  ]\n",
      "9\n",
      "[  0.00000000e+00   6.34239197e-02   1.26592454e-01   1.89251244e-01\n",
      "   2.51147987e-01   3.12033446e-01   3.71662456e-01   4.29794912e-01\n",
      "   4.86196736e-01   5.40640817e-01   5.92907929e-01   6.42787610e-01\n",
      "   6.90079011e-01   7.34591709e-01   7.76146464e-01   8.14575952e-01\n",
      "   8.49725430e-01   8.81453363e-01   9.09631995e-01   9.34147860e-01\n",
      "   9.54902241e-01   9.71811568e-01   9.84807753e-01   9.93838464e-01\n",
      "   9.98867339e-01   9.99874128e-01   9.96854776e-01   9.89821442e-01\n",
      "   9.78802446e-01   9.63842159e-01   9.45000819e-01   9.22354294e-01\n",
      "   8.95993774e-01   8.66025404e-01   8.32569855e-01   7.95761841e-01\n",
      "   7.55749574e-01   7.12694171e-01   6.66769001e-01   6.18158986e-01\n",
      "   5.67059864e-01   5.13677392e-01   4.58226522e-01   4.00930535e-01\n",
      "   3.42020143e-01   2.81732557e-01   2.20310533e-01   1.58001396e-01\n",
      "   9.50560433e-02   3.17279335e-02  -3.17279335e-02  -9.50560433e-02\n",
      "  -1.58001396e-01  -2.20310533e-01  -2.81732557e-01  -3.42020143e-01\n",
      "  -4.00930535e-01  -4.58226522e-01  -5.13677392e-01  -5.67059864e-01\n",
      "  -6.18158986e-01  -6.66769001e-01  -7.12694171e-01  -7.55749574e-01\n",
      "  -7.95761841e-01  -8.32569855e-01  -8.66025404e-01  -8.95993774e-01\n",
      "  -9.22354294e-01  -9.45000819e-01  -9.63842159e-01  -9.78802446e-01\n",
      "  -9.89821442e-01  -9.96854776e-01  -9.99874128e-01  -9.98867339e-01\n",
      "  -9.93838464e-01  -9.84807753e-01  -9.71811568e-01  -9.54902241e-01\n",
      "  -9.34147860e-01  -9.09631995e-01  -8.81453363e-01  -8.49725430e-01\n",
      "  -8.14575952e-01  -7.76146464e-01  -7.34591709e-01  -6.90079011e-01\n",
      "  -6.42787610e-01  -5.92907929e-01  -5.40640817e-01  -4.86196736e-01\n",
      "  -4.29794912e-01  -3.71662456e-01  -3.12033446e-01  -2.51147987e-01\n",
      "  -1.89251244e-01  -1.26592454e-01  -6.34239197e-02  -2.44929360e-16]\n"
     ]
    }
   ],
   "source": [
    "from numpy import  pi\n",
    "a = np.linspace(0,2,9)\n",
    "print(a)\n",
    "print(a.size) #9\n",
    "\n",
    "x = np.linspace(0, 2*pi, 100)\n",
    "f = np.sin(x)\n",
    "print(f)"
   ]
  },
  {
   "cell_type": "code",
   "execution_count": 72,
   "metadata": {},
   "outputs": [
    {
     "name": "stdout",
     "output_type": "stream",
     "text": [
      "[0 1 2 3 4 5]\n",
      "---------------------------\n",
      "[[ 0  1  2]\n",
      " [ 3  4  5]\n",
      " [ 6  7  8]\n",
      " [ 9 10 11]]\n",
      "---------------------------\n",
      "[[[ 0  1  2  3]\n",
      "  [ 4  5  6  7]\n",
      "  [ 8  9 10 11]]\n",
      "\n",
      " [[12 13 14 15]\n",
      "  [16 17 18 19]\n",
      "  [20 21 22 23]]]\n"
     ]
    }
   ],
   "source": [
    "#Printing Arrays\n",
    "a = np.arange(6)\n",
    "print(a) # 1D\n",
    "print(\"---------------------------\")\n",
    "b = np.arange(12).reshape(4,3)\n",
    "print(b) #2D\n",
    "\n",
    "print(\"---------------------------\")\n",
    "c = np.arange(24).reshape(2,3,4)\n",
    "print(c) #3D"
   ]
  },
  {
   "cell_type": "code",
   "execution_count": 74,
   "metadata": {
    "scrolled": false
   },
   "outputs": [
    {
     "name": "stdout",
     "output_type": "stream",
     "text": [
      "[   0    1    2 ..., 9997 9998 9999]\n",
      "============================================\n",
      "[[   0    1    2 ...,   97   98   99]\n",
      " [ 100  101  102 ...,  197  198  199]\n",
      " [ 200  201  202 ...,  297  298  299]\n",
      " ..., \n",
      " [9700 9701 9702 ..., 9797 9798 9799]\n",
      " [9800 9801 9802 ..., 9897 9898 9899]\n",
      " [9900 9901 9902 ..., 9997 9998 9999]]\n"
     ]
    }
   ],
   "source": [
    "#If an array is too large to be printed, NumPy automatically skips the central part of the array and only prints the corners:\n",
    "\n",
    "print(np.arange(10000))\n",
    "\n",
    "print(\"============================================\")\n",
    "print(np.arange(10000).reshape(100,100))"
   ]
  },
  {
   "cell_type": "code",
   "execution_count": 90,
   "metadata": {
    "collapsed": true
   },
   "outputs": [],
   "source": [
    "#To disable this behaviour and force NumPy to print the entire array, you can change the printing options using set_printoptions.\n",
    "#np.set_printoptions(threshold='nan')\n",
    "#print(np.arange(10000))\n"
   ]
  },
  {
   "cell_type": "code",
   "execution_count": 2,
   "metadata": {},
   "outputs": [
    {
     "name": "stdout",
     "output_type": "stream",
     "text": [
      "[   0    1    2 ..., 9997 9998 9999]\n"
     ]
    }
   ],
   "source": [
    "print(np.arange(10000))"
   ]
  },
  {
   "cell_type": "code",
   "execution_count": 10,
   "metadata": {},
   "outputs": [
    {
     "name": "stdout",
     "output_type": "stream",
     "text": [
      "[20 30 40 50]\n",
      "----------------------\n",
      "[0 1 2 3]\n",
      "----------------------\n",
      "[20 29 38 47]\n",
      "=========================\n",
      "[0 1 4 9]\n",
      "---------------------------\n",
      "[ 9.12945251 -9.88031624  7.4511316  -2.62374854]\n",
      "[ True  True False False]\n"
     ]
    }
   ],
   "source": [
    "#Basic Operations\n",
    "a = np.array([20,30,40,50])\n",
    "\n",
    "b = np.arange(4)\n",
    "\n",
    "print(a)\n",
    "print(\"----------------------\")\n",
    "print(b)\n",
    "\n",
    "c = a-b \n",
    "print(\"----------------------\")\n",
    "print(c)\n",
    "print(\"=========================\")\n",
    "print(b**2)\n",
    "\n",
    "print(\"---------------------------\")\n",
    "print(10*np.sin(a))\n",
    "#print(np.sin(30))\n",
    "print(a < 35)"
   ]
  },
  {
   "cell_type": "code",
   "execution_count": 15,
   "metadata": {},
   "outputs": [
    {
     "name": "stdout",
     "output_type": "stream",
     "text": [
      "[[2 0]\n",
      " [0 4]]\n",
      "----------------------------\n",
      "[[5 4]\n",
      " [3 4]]\n",
      "----------------------------\n",
      "[[5 4]\n",
      " [3 4]]\n"
     ]
    }
   ],
   "source": [
    "A = np.array([[1,1],\n",
    "             [0,1]])\n",
    "B = np.array([[2,0],\n",
    "             [3,4]])\n",
    "print(A*B) # elementwise product\n",
    "print(\"----------------------------\")\n",
    "print(A.dot(B)) #matrix product \n",
    "print('----------------------------')\n",
    "print(np.dot(A, B)) #matrix product\n"
   ]
  },
  {
   "cell_type": "code",
   "execution_count": 20,
   "metadata": {},
   "outputs": [
    {
     "name": "stdout",
     "output_type": "stream",
     "text": [
      "[[1 1 1]\n",
      " [1 1 1]]\n",
      "-------------------\n",
      "[[ 0.35390316  0.88016787  0.48891413]\n",
      " [ 0.89971692  0.63792877  0.6924183 ]]\n",
      "****************************\n",
      "[[3 3 3]\n",
      " [3 3 3]]\n"
     ]
    }
   ],
   "source": [
    "#Some operations, such as += and *=, act in place to modify an existing array rather than create a new one.\n",
    "\n",
    "a = np.ones((2,3), dtype=int)\n",
    "b = np.random.random((2,3))\n",
    "print(a)\n",
    "print(\"-------------------\")\n",
    "print(b)\n",
    "print(\"****************************\")\n",
    "a *=3\n",
    "print(a)\n",
    "\n",
    "#-------------------\n",
    "#a +=b  Error\n"
   ]
  },
  {
   "cell_type": "code",
   "execution_count": 12,
   "metadata": {},
   "outputs": [
    {
     "name": "stdout",
     "output_type": "stream",
     "text": [
      "[1 1 1]\n",
      "[ 0.          1.57079633  3.14159265]\n",
      "float64\n",
      "[ 1.          2.57079633  4.14159265]\n",
      "float64\n",
      "[ 0.54030231+0.84147098j -0.84147098+0.54030231j -0.54030231-0.84147098j]\n",
      "complex128\n"
     ]
    }
   ],
   "source": [
    "a = np.ones(3, dtype=np.int32)\n",
    "b = np.linspace(0, pi, 3)\n",
    "print(a)\n",
    "print(b)\n",
    "print(b.dtype.name)\n",
    "c = a + b\n",
    "print(c)\n",
    "print(c.dtype.name)\n",
    "#-----------------------------------\n",
    "d = np.exp(c*1j)\n",
    "print(d)\n",
    "print(d.dtype.name)"
   ]
  },
  {
   "cell_type": "code",
   "execution_count": 23,
   "metadata": {
    "scrolled": true
   },
   "outputs": [
    {
     "name": "stdout",
     "output_type": "stream",
     "text": [
      "[[ 0.57594872  0.57516939  0.83076947]\n",
      " [ 0.98870773  0.21515434  0.40380377]]\n",
      "3.58955342479\n",
      "0.215154344501\n",
      "0.988707733942\n"
     ]
    }
   ],
   "source": [
    "a = np.random.random((2,3))\n",
    "print(a)\n",
    "print(a.sum())\n",
    "print(a.min())\n",
    "print(a.max())"
   ]
  },
  {
   "cell_type": "code",
   "execution_count": 36,
   "metadata": {},
   "outputs": [
    {
     "name": "stdout",
     "output_type": "stream",
     "text": [
      "[[ 0  1  2  3]\n",
      " [ 4  5  6  7]\n",
      " [ 8  9 10 11]]\n",
      "Sum is :  66\n",
      "Sum is axis(0) :  [12 15 18 21]\n",
      "Sum is axis(1) :  [ 6 22 38]\n",
      "min  is axis(0) :  [0 1 2 3]\n",
      "min  is axis(1) :  [0 4 8]\n",
      "max  is axis(0) :  [ 8  9 10 11]\n",
      "max  is axis(1) :  [ 3  7 11]\n",
      "-------------------------------------\n",
      "column sum  of axis(0) :  [[ 0  1  2  3]\n",
      " [ 4  6  8 10]\n",
      " [12 15 18 21]]\n",
      "column sum  of axis(1) :  [[ 0  1  3  6]\n",
      " [ 4  9 15 22]\n",
      " [ 8 17 27 38]]\n"
     ]
    }
   ],
   "source": [
    "b = np.arange(12).reshape(3,4)\n",
    "\n",
    "print(b)\n",
    "print(\"Sum is : \", b.sum())\n",
    "print(\"Sum is axis(0) : \", b.sum(axis=0)) #column wise sum\n",
    "print(\"Sum is axis(1) : \", b.sum(axis=1)) #Rows wise sum\n",
    "print(\"min  is axis(0) : \", b.min(axis=0))\n",
    "print(\"min  is axis(1) : \", b.min(axis=1))\n",
    "print(\"max  is axis(0) : \", b.max(axis=0))\n",
    "print(\"max  is axis(1) : \", b.max(axis=1))\n",
    "\n",
    "print(\"-------------------------------------\")\n",
    "print(\"column sum  of axis(0) : \", b.cumsum(axis=0)) #cumutative sum along each row\n",
    "print(\"column sum  of axis(1) : \", b.cumsum(axis=1)) #cumutative sum along each row\n",
    "\n",
    "\n",
    "\n",
    "\n",
    "\n"
   ]
  },
  {
   "cell_type": "code",
   "execution_count": 43,
   "metadata": {},
   "outputs": [
    {
     "name": "stdout",
     "output_type": "stream",
     "text": [
      "[0 1 2]\n",
      "[ 1.          2.71828183  7.3890561 ]\n",
      "[ 0.          1.          1.41421356]\n",
      "------------------------\n",
      "[ 2.  0.  6.]\n"
     ]
    }
   ],
   "source": [
    "#Universal functions\n",
    "B = np.arange(3)\n",
    "print(B)\n",
    "print(np.exp(B))\n",
    "#np.exp?\n",
    "print(np.sqrt(B))\n",
    "C = np.array([2., -1, 4.])\n",
    "print(\"------------------------\")\n",
    "print(np.add(B,C))"
   ]
  },
  {
   "cell_type": "code",
   "execution_count": 53,
   "metadata": {},
   "outputs": [
    {
     "name": "stdout",
     "output_type": "stream",
     "text": [
      "[  0   1   8  27  64 125 216 343 512 729]\n",
      "8\n",
      "[ 8 27 64]\n",
      "[ 0  8 64]\n",
      "[-1000     1 -1000    27 -1000   125   216   343   512   729]\n",
      "[  729   512   343   216   125 -1000    27 -1000     1 -1000]\n",
      "nan\n",
      "1.0\n",
      "nan\n",
      "3.0\n",
      "nan\n",
      "5.0\n",
      "6.0\n",
      "7.0\n",
      "8.0\n",
      "9.0\n"
     ]
    },
    {
     "name": "stderr",
     "output_type": "stream",
     "text": [
      "C:\\Users\\nexii\\Anaconda3\\lib\\site-packages\\ipykernel_launcher.py:14: RuntimeWarning: invalid value encountered in power\n",
      "  \n"
     ]
    }
   ],
   "source": [
    "#Indexing, Slicing and Iterating\n",
    "a = np.arange(10)**3 #cube of range 0-9\n",
    "print(a)\n",
    "print(a[2])\n",
    "print(a[2:5])\n",
    "print(a[:6:2])\n",
    "#ASSIGNMENT\n",
    "a[:6:2] = -1000\n",
    "print(a)\n",
    "print(a[::-1]) #Reverse order\n",
    "#Looping\n",
    "\n",
    "for i in a:\n",
    "    print(i**(1/3.))"
   ]
  },
  {
   "cell_type": "code",
   "execution_count": 59,
   "metadata": {},
   "outputs": [
    {
     "name": "stdout",
     "output_type": "stream",
     "text": [
      "[[ 0  1  2  3]\n",
      " [10 11 12 13]\n",
      " [20 21 22 23]\n",
      " [30 31 32 33]\n",
      " [40 41 42 43]]\n"
     ]
    }
   ],
   "source": [
    "#Multidimensional arrays can have one index per axis. These indices are given in a tuple separated by commas:\n",
    "\n",
    "def f(x,y):\n",
    "    print(10*x+y)\n",
    "    return 10*x+y\n",
    "\n",
    "b = np.fromfunction(f, (5,4),dtype=int)\n",
    "#print(b)"
   ]
  }
 ],
 "metadata": {
  "kernelspec": {
   "display_name": "Python 3",
   "language": "python",
   "name": "python3"
  },
  "language_info": {
   "codemirror_mode": {
    "name": "ipython",
    "version": 3
   },
   "file_extension": ".py",
   "mimetype": "text/x-python",
   "name": "python",
   "nbconvert_exporter": "python",
   "pygments_lexer": "ipython3",
   "version": "3.6.1"
  }
 },
 "nbformat": 4,
 "nbformat_minor": 2
}
