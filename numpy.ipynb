{
 "cells": [
  {
   "cell_type": "code",
   "execution_count": 1,
   "metadata": {
    "collapsed": true
   },
   "outputs": [],
   "source": [
    "import numpy as np\n"
   ]
  },
  {
   "cell_type": "code",
   "execution_count": 5,
   "metadata": {},
   "outputs": [
    {
     "name": "stdout",
     "output_type": "stream",
     "text": [
      "[[ 0  1  2  3  4]\n",
      " [ 5  6  7  8  9]\n",
      " [10 11 12 13 14]]\n"
     ]
    }
   ],
   "source": [
    "a = np.arange(15).reshape(3,5)\n",
    "print(a)"
   ]
  },
  {
   "cell_type": "code",
   "execution_count": 13,
   "metadata": {},
   "outputs": [
    {
     "name": "stdout",
     "output_type": "stream",
     "text": [
      "(3, 5)\n",
      "15\n",
      "4\n",
      "<class 'numpy.ndarray'>\n"
     ]
    },
    {
     "data": {
      "text/plain": [
       "<function ndarray.all>"
      ]
     },
     "execution_count": 13,
     "metadata": {},
     "output_type": "execute_result"
    }
   ],
   "source": [
    "print(a.shape)\n",
    "print(a.size)\n",
    "print(a.itemsize)\n",
    "print(type(a))\n"
   ]
  },
  {
   "cell_type": "code",
   "execution_count": 18,
   "metadata": {},
   "outputs": [
    {
     "name": "stdout",
     "output_type": "stream",
     "text": [
      "[ 0  1  2  3  4  5  6  7  8  9 10 11 12 13 14]\n",
      "2\n"
     ]
    }
   ],
   "source": [
    "print(a.base)\n",
    "print(a.ndim)"
   ]
  },
  {
   "cell_type": "code",
   "execution_count": 22,
   "metadata": {},
   "outputs": [
    {
     "name": "stdout",
     "output_type": "stream",
     "text": [
      "[6 7 8]\n",
      "<class 'numpy.ndarray'>\n"
     ]
    }
   ],
   "source": [
    "b = np.array([6,7,8])\n",
    "print(b)\n",
    "print(type(b))"
   ]
  },
  {
   "cell_type": "code",
   "execution_count": 27,
   "metadata": {},
   "outputs": [
    {
     "name": "stdout",
     "output_type": "stream",
     "text": [
      "[2 3 4]\n",
      "int32\n",
      "3\n",
      "4\n"
     ]
    }
   ],
   "source": [
    "#Several  ways to create an arrays\n",
    "a = np.array([2,3,4])\n",
    "print(a)\n",
    "print(a.dtype)\n",
    "print(a.size)\n",
    "print(a.itemsize)"
   ]
  },
  {
   "cell_type": "code",
   "execution_count": 30,
   "metadata": {
    "collapsed": true
   },
   "outputs": [],
   "source": [
    "# a = np.array(1,2,3,4) Error\n",
    "a = np.array([1,2,3,4]) #RIGHT"
   ]
  },
  {
   "cell_type": "code",
   "execution_count": 37,
   "metadata": {},
   "outputs": [
    {
     "name": "stdout",
     "output_type": "stream",
     "text": [
      "[[ 1.5  2.   3. ]\n",
      " [ 4.   5.   6. ]]\n",
      "<class 'numpy.ndarray'>\n",
      "8\n",
      "6\n",
      "float64\n"
     ]
    }
   ],
   "source": [
    "b = np.array([(1.5,2,3),(4,5,6)])\n",
    "print(b)\n",
    "print(type(b))\n",
    "print(b.itemsize) #float\n",
    "print(b.size)\n",
    "print(b.dtype)"
   ]
  },
  {
   "cell_type": "code",
   "execution_count": 40,
   "metadata": {},
   "outputs": [
    {
     "name": "stdout",
     "output_type": "stream",
     "text": [
      "[[1 2]\n",
      " [3 4]]\n",
      "int32\n",
      "[[ 1.+0.j  2.+0.j]\n",
      " [ 3.+0.j  4.+0.j]]\n",
      "complex128\n"
     ]
    }
   ],
   "source": [
    "b = np.array([[1,2],[3,4]])\n",
    "print(b)\n",
    "print(b.dtype)\n",
    "c = np.array([[1,2],[3,4]], dtype=complex)\n",
    "print(c)\n",
    "print(c.dtype)"
   ]
  },
  {
   "cell_type": "code",
   "execution_count": 54,
   "metadata": {},
   "outputs": [
    {
     "name": "stdout",
     "output_type": "stream",
     "text": [
      "[[ 0.  0.  0.  0.]\n",
      " [ 0.  0.  0.  0.]\n",
      " [ 0.  0.  0.  0.]]\n",
      "float64\n",
      "------------------------------------\n",
      "[[[1 1 1 1]\n",
      "  [1 1 1 1]\n",
      "  [1 1 1 1]]\n",
      "\n",
      " [[1 1 1 1]\n",
      "  [1 1 1 1]\n",
      "  [1 1 1 1]]]\n",
      "24\n",
      "int16\n",
      "2\n",
      "--------------------------------------\n",
      "[[ 0.  0.  0.]\n",
      " [ 0.  0.  0.]]\n",
      "float64\n"
     ]
    }
   ],
   "source": [
    "zeros_array = np.zeros((3,4))\n",
    "print(zeros_array)\n",
    "print(zeros_array.dtype)\n",
    "print('------------------------------------')\n",
    "#------------\n",
    "ones_array = np.ones((2,3,4), dtype=np.int16)\n",
    "print(ones_array)\n",
    "print(ones_array.size)\n",
    "print(ones_array.dtype)\n",
    "print(ones_array.itemsize)\n",
    "ones_array\n",
    "#------------------------\n",
    "print(\"--------------------------------------\")\n",
    "\n",
    "empty_array = np.empty((2,3))\n",
    "print(empty_array)\n",
    "print(empty_array.dtype)"
   ]
  },
  {
   "cell_type": "code",
   "execution_count": 56,
   "metadata": {},
   "outputs": [
    {
     "name": "stdout",
     "output_type": "stream",
     "text": [
      "[10 15 20 25]\n",
      "[ 0.   0.3  0.6  0.9  1.2  1.5  1.8]\n"
     ]
    }
   ],
   "source": [
    "#Range array\n",
    "a = np.arange(10,30,5)\n",
    "print(a)\n",
    "b = np.arange(0,2,0.3)\n",
    "print(b)"
   ]
  },
  {
   "cell_type": "code",
   "execution_count": 3,
   "metadata": {},
   "outputs": [
    {
     "name": "stdout",
     "output_type": "stream",
     "text": [
      "[ 0.    0.25  0.5   0.75  1.    1.25  1.5   1.75  2.  ]\n",
      "9\n",
      "[  0.00000000e+00   6.34239197e-02   1.26592454e-01   1.89251244e-01\n",
      "   2.51147987e-01   3.12033446e-01   3.71662456e-01   4.29794912e-01\n",
      "   4.86196736e-01   5.40640817e-01   5.92907929e-01   6.42787610e-01\n",
      "   6.90079011e-01   7.34591709e-01   7.76146464e-01   8.14575952e-01\n",
      "   8.49725430e-01   8.81453363e-01   9.09631995e-01   9.34147860e-01\n",
      "   9.54902241e-01   9.71811568e-01   9.84807753e-01   9.93838464e-01\n",
      "   9.98867339e-01   9.99874128e-01   9.96854776e-01   9.89821442e-01\n",
      "   9.78802446e-01   9.63842159e-01   9.45000819e-01   9.22354294e-01\n",
      "   8.95993774e-01   8.66025404e-01   8.32569855e-01   7.95761841e-01\n",
      "   7.55749574e-01   7.12694171e-01   6.66769001e-01   6.18158986e-01\n",
      "   5.67059864e-01   5.13677392e-01   4.58226522e-01   4.00930535e-01\n",
      "   3.42020143e-01   2.81732557e-01   2.20310533e-01   1.58001396e-01\n",
      "   9.50560433e-02   3.17279335e-02  -3.17279335e-02  -9.50560433e-02\n",
      "  -1.58001396e-01  -2.20310533e-01  -2.81732557e-01  -3.42020143e-01\n",
      "  -4.00930535e-01  -4.58226522e-01  -5.13677392e-01  -5.67059864e-01\n",
      "  -6.18158986e-01  -6.66769001e-01  -7.12694171e-01  -7.55749574e-01\n",
      "  -7.95761841e-01  -8.32569855e-01  -8.66025404e-01  -8.95993774e-01\n",
      "  -9.22354294e-01  -9.45000819e-01  -9.63842159e-01  -9.78802446e-01\n",
      "  -9.89821442e-01  -9.96854776e-01  -9.99874128e-01  -9.98867339e-01\n",
      "  -9.93838464e-01  -9.84807753e-01  -9.71811568e-01  -9.54902241e-01\n",
      "  -9.34147860e-01  -9.09631995e-01  -8.81453363e-01  -8.49725430e-01\n",
      "  -8.14575952e-01  -7.76146464e-01  -7.34591709e-01  -6.90079011e-01\n",
      "  -6.42787610e-01  -5.92907929e-01  -5.40640817e-01  -4.86196736e-01\n",
      "  -4.29794912e-01  -3.71662456e-01  -3.12033446e-01  -2.51147987e-01\n",
      "  -1.89251244e-01  -1.26592454e-01  -6.34239197e-02  -2.44929360e-16]\n"
     ]
    }
   ],
   "source": [
    "from numpy import  pi\n",
    "a = np.linspace(0,2,9)\n",
    "print(a)\n",
    "print(a.size) #9\n",
    "\n",
    "x = np.linspace(0, 2*pi, 100)\n",
    "f = np.sin(x)\n",
    "print(f)"
   ]
  },
  {
   "cell_type": "code",
   "execution_count": 72,
   "metadata": {},
   "outputs": [
    {
     "name": "stdout",
     "output_type": "stream",
     "text": [
      "[0 1 2 3 4 5]\n",
      "---------------------------\n",
      "[[ 0  1  2]\n",
      " [ 3  4  5]\n",
      " [ 6  7  8]\n",
      " [ 9 10 11]]\n",
      "---------------------------\n",
      "[[[ 0  1  2  3]\n",
      "  [ 4  5  6  7]\n",
      "  [ 8  9 10 11]]\n",
      "\n",
      " [[12 13 14 15]\n",
      "  [16 17 18 19]\n",
      "  [20 21 22 23]]]\n"
     ]
    }
   ],
   "source": [
    "#Printing Arrays\n",
    "a = np.arange(6)\n",
    "print(a) # 1D\n",
    "print(\"---------------------------\")\n",
    "b = np.arange(12).reshape(4,3)\n",
    "print(b) #2D\n",
    "\n",
    "print(\"---------------------------\")\n",
    "c = np.arange(24).reshape(2,3,4)\n",
    "print(c) #3D"
   ]
  },
  {
   "cell_type": "code",
   "execution_count": 74,
   "metadata": {
    "scrolled": false
   },
   "outputs": [
    {
     "name": "stdout",
     "output_type": "stream",
     "text": [
      "[   0    1    2 ..., 9997 9998 9999]\n",
      "============================================\n",
      "[[   0    1    2 ...,   97   98   99]\n",
      " [ 100  101  102 ...,  197  198  199]\n",
      " [ 200  201  202 ...,  297  298  299]\n",
      " ..., \n",
      " [9700 9701 9702 ..., 9797 9798 9799]\n",
      " [9800 9801 9802 ..., 9897 9898 9899]\n",
      " [9900 9901 9902 ..., 9997 9998 9999]]\n"
     ]
    }
   ],
   "source": [
    "#If an array is too large to be printed, NumPy automatically skips the central part of the array and only prints the corners:\n",
    "\n",
    "print(np.arange(10000))\n",
    "\n",
    "print(\"============================================\")\n",
    "print(np.arange(10000).reshape(100,100))"
   ]
  },
  {
   "cell_type": "code",
   "execution_count": 90,
   "metadata": {
    "collapsed": true
   },
   "outputs": [],
   "source": [
    "#To disable this behaviour and force NumPy to print the entire array, you can change the printing options using set_printoptions.\n",
    "#np.set_printoptions(threshold='nan')\n",
    "#print(np.arange(10000))\n"
   ]
  },
  {
   "cell_type": "code",
   "execution_count": 2,
   "metadata": {},
   "outputs": [
    {
     "name": "stdout",
     "output_type": "stream",
     "text": [
      "[   0    1    2 ..., 9997 9998 9999]\n"
     ]
    }
   ],
   "source": [
    "print(np.arange(10000))"
   ]
  },
  {
   "cell_type": "code",
   "execution_count": 10,
   "metadata": {},
   "outputs": [
    {
     "name": "stdout",
     "output_type": "stream",
     "text": [
      "[20 30 40 50]\n",
      "----------------------\n",
      "[0 1 2 3]\n",
      "----------------------\n",
      "[20 29 38 47]\n",
      "=========================\n",
      "[0 1 4 9]\n",
      "---------------------------\n",
      "[ 9.12945251 -9.88031624  7.4511316  -2.62374854]\n",
      "[ True  True False False]\n"
     ]
    }
   ],
   "source": [
    "#Basic Operations\n",
    "a = np.array([20,30,40,50])\n",
    "\n",
    "b = np.arange(4)\n",
    "\n",
    "print(a)\n",
    "print(\"----------------------\")\n",
    "print(b)\n",
    "\n",
    "c = a-b \n",
    "print(\"----------------------\")\n",
    "print(c)\n",
    "print(\"=========================\")\n",
    "print(b**2)\n",
    "\n",
    "print(\"---------------------------\")\n",
    "print(10*np.sin(a))\n",
    "#print(np.sin(30))\n",
    "print(a < 35)"
   ]
  },
  {
   "cell_type": "code",
   "execution_count": 15,
   "metadata": {},
   "outputs": [
    {
     "name": "stdout",
     "output_type": "stream",
     "text": [
      "[[2 0]\n",
      " [0 4]]\n",
      "----------------------------\n",
      "[[5 4]\n",
      " [3 4]]\n",
      "----------------------------\n",
      "[[5 4]\n",
      " [3 4]]\n"
     ]
    }
   ],
   "source": [
    "A = np.array([[1,1],\n",
    "             [0,1]])\n",
    "B = np.array([[2,0],\n",
    "             [3,4]])\n",
    "print(A*B) # elementwise product\n",
    "print(\"----------------------------\")\n",
    "print(A.dot(B)) #matrix product \n",
    "print('----------------------------')\n",
    "print(np.dot(A, B)) #matrix product\n"
   ]
  },
  {
   "cell_type": "code",
   "execution_count": 20,
   "metadata": {},
   "outputs": [
    {
     "name": "stdout",
     "output_type": "stream",
     "text": [
      "[[1 1 1]\n",
      " [1 1 1]]\n",
      "-------------------\n",
      "[[ 0.35390316  0.88016787  0.48891413]\n",
      " [ 0.89971692  0.63792877  0.6924183 ]]\n",
      "****************************\n",
      "[[3 3 3]\n",
      " [3 3 3]]\n"
     ]
    }
   ],
   "source": [
    "#Some operations, such as += and *=, act in place to modify an existing array rather than create a new one.\n",
    "\n",
    "a = np.ones((2,3), dtype=int)\n",
    "b = np.random.random((2,3))\n",
    "print(a)\n",
    "print(\"-------------------\")\n",
    "print(b)\n",
    "print(\"****************************\")\n",
    "a *=3\n",
    "print(a)\n",
    "\n",
    "#-------------------\n",
    "#a +=b  Error\n"
   ]
  },
  {
   "cell_type": "code",
   "execution_count": 12,
   "metadata": {},
   "outputs": [
    {
     "name": "stdout",
     "output_type": "stream",
     "text": [
      "[1 1 1]\n",
      "[ 0.          1.57079633  3.14159265]\n",
      "float64\n",
      "[ 1.          2.57079633  4.14159265]\n",
      "float64\n",
      "[ 0.54030231+0.84147098j -0.84147098+0.54030231j -0.54030231-0.84147098j]\n",
      "complex128\n"
     ]
    }
   ],
   "source": [
    "a = np.ones(3, dtype=np.int32)\n",
    "b = np.linspace(0, pi, 3)\n",
    "print(a)\n",
    "print(b)\n",
    "print(b.dtype.name)\n",
    "c = a + b\n",
    "print(c)\n",
    "print(c.dtype.name)\n",
    "#-----------------------------------\n",
    "d = np.exp(c*1j)\n",
    "print(d)\n",
    "print(d.dtype.name)"
   ]
  },
  {
   "cell_type": "code",
   "execution_count": 23,
   "metadata": {
    "scrolled": true
   },
   "outputs": [
    {
     "name": "stdout",
     "output_type": "stream",
     "text": [
      "[[ 0.57594872  0.57516939  0.83076947]\n",
      " [ 0.98870773  0.21515434  0.40380377]]\n",
      "3.58955342479\n",
      "0.215154344501\n",
      "0.988707733942\n"
     ]
    }
   ],
   "source": [
    "a = np.random.random((2,3))\n",
    "print(a)\n",
    "print(a.sum())\n",
    "print(a.min())\n",
    "print(a.max())"
   ]
  },
  {
   "cell_type": "code",
   "execution_count": 36,
   "metadata": {},
   "outputs": [
    {
     "name": "stdout",
     "output_type": "stream",
     "text": [
      "[[ 0  1  2  3]\n",
      " [ 4  5  6  7]\n",
      " [ 8  9 10 11]]\n",
      "Sum is :  66\n",
      "Sum is axis(0) :  [12 15 18 21]\n",
      "Sum is axis(1) :  [ 6 22 38]\n",
      "min  is axis(0) :  [0 1 2 3]\n",
      "min  is axis(1) :  [0 4 8]\n",
      "max  is axis(0) :  [ 8  9 10 11]\n",
      "max  is axis(1) :  [ 3  7 11]\n",
      "-------------------------------------\n",
      "column sum  of axis(0) :  [[ 0  1  2  3]\n",
      " [ 4  6  8 10]\n",
      " [12 15 18 21]]\n",
      "column sum  of axis(1) :  [[ 0  1  3  6]\n",
      " [ 4  9 15 22]\n",
      " [ 8 17 27 38]]\n"
     ]
    }
   ],
   "source": [
    "b = np.arange(12).reshape(3,4)\n",
    "\n",
    "print(b)\n",
    "print(\"Sum is : \", b.sum())\n",
    "print(\"Sum is axis(0) : \", b.sum(axis=0)) #column wise sum\n",
    "print(\"Sum is axis(1) : \", b.sum(axis=1)) #Rows wise sum\n",
    "print(\"min  is axis(0) : \", b.min(axis=0))\n",
    "print(\"min  is axis(1) : \", b.min(axis=1))\n",
    "print(\"max  is axis(0) : \", b.max(axis=0))\n",
    "print(\"max  is axis(1) : \", b.max(axis=1))\n",
    "\n",
    "print(\"-------------------------------------\")\n",
    "print(\"column sum  of axis(0) : \", b.cumsum(axis=0)) #cumutative sum along each row\n",
    "print(\"column sum  of axis(1) : \", b.cumsum(axis=1)) #cumutative sum along each row\n",
    "\n",
    "\n",
    "\n",
    "\n",
    "\n"
   ]
  },
  {
   "cell_type": "code",
   "execution_count": 43,
   "metadata": {},
   "outputs": [
    {
     "name": "stdout",
     "output_type": "stream",
     "text": [
      "[0 1 2]\n",
      "[ 1.          2.71828183  7.3890561 ]\n",
      "[ 0.          1.          1.41421356]\n",
      "------------------------\n",
      "[ 2.  0.  6.]\n"
     ]
    }
   ],
   "source": [
    "#Universal functions\n",
    "B = np.arange(3)\n",
    "print(B)\n",
    "print(np.exp(B))\n",
    "#np.exp?\n",
    "print(np.sqrt(B))\n",
    "C = np.array([2., -1, 4.])\n",
    "print(\"------------------------\")\n",
    "print(np.add(B,C))"
   ]
  },
  {
   "cell_type": "code",
   "execution_count": 8,
   "metadata": {},
   "outputs": [
    {
     "name": "stdout",
     "output_type": "stream",
     "text": [
      "[  0   1   8  27  64 125 216 343 512 729]\n",
      "8\n",
      "[ 8 27 64]\n",
      "[ 0  8 64]\n",
      "[-1000     1 -1000    27 -1000   125   216   343   512   729]\n",
      "[  729   512   343   216   125 -1000    27 -1000     1 -1000]\n",
      "nan\n",
      "1.0\n",
      "nan\n",
      "3.0\n",
      "nan\n",
      "5.0\n",
      "6.0\n",
      "7.0\n",
      "8.0\n",
      "9.0\n"
     ]
    },
    {
     "name": "stderr",
     "output_type": "stream",
     "text": [
      "C:\\Users\\nexii\\Anaconda3\\lib\\site-packages\\ipykernel_launcher.py:14: RuntimeWarning: invalid value encountered in power\n",
      "  \n"
     ]
    }
   ],
   "source": [
    "#Indexing, Slicing and Iterating\n",
    "a = np.arange(10)**3 #cube of range 0-9\n",
    "print(a)\n",
    "print(a[2])\n",
    "print(a[2:5])\n",
    "print(a[:6:2])\n",
    "#ASSIGNMENT\n",
    "a[:6:2] = -1000\n",
    "print(a)\n",
    "print(a[::-1]) #Reverse order\n",
    "#Looping\n",
    "\n",
    "for i in a:\n",
    "    print(i**(1/3.))"
   ]
  },
  {
   "cell_type": "code",
   "execution_count": 7,
   "metadata": {},
   "outputs": [
    {
     "name": "stdout",
     "output_type": "stream",
     "text": [
      "[[ 0  1  2  3]\n",
      " [10 11 12 13]\n",
      " [20 21 22 23]\n",
      " [30 31 32 33]\n",
      " [40 41 42 43]]\n",
      "23\n",
      "[ 0 10 20 30 40]\n",
      "[ 1 11 21 31 41]\n",
      "=====================\n",
      "[ 1 11 21 31 41]\n",
      "[[10 11 12 13]\n",
      " [20 21 22 23]]\n",
      "--------------------------\n",
      "[40 41 42 43]\n"
     ]
    }
   ],
   "source": [
    "#Multidimensional arrays can have one index per axis. These indices are given in a tuple separated by commas:\n",
    "\n",
    "def f(x,y):\n",
    "    return 10*x+y\n",
    "\n",
    "b = np.fromfunction(f, (5,4),dtype=int)\n",
    "print(b)\n",
    "#np.fromfunction?\n",
    "print(b[2,3])\n",
    "print(b[0:5,0]) #1st col data\n",
    "print(b[0:5,1]) #2nd col data\n",
    "\n",
    "print(\"=====================\")\n",
    "print(b[:,1]) #2nd col data\n",
    "\n",
    "print(b[1:3,:])\n",
    "\n",
    "print('--------------------------')\n",
    "print(b[-1]) #last rows data"
   ]
  },
  {
   "cell_type": "code",
   "execution_count": 101,
   "metadata": {},
   "outputs": [
    {
     "name": "stdout",
     "output_type": "stream",
     "text": [
      "[[100 101 102]\n",
      " [110 112 113]]\n",
      "[[  1  12]\n",
      " [101 112]]\n",
      "[[  2  13]\n",
      " [102 113]]\n"
     ]
    }
   ],
   "source": [
    "c = np.array([[[0, 1, 2],\n",
    "              [10, 12, 13]],\n",
    "             [[100, 101, 102],\n",
    "             [110, 112, 113]]])\n",
    "\n",
    "c.shape\n",
    "print(c[1,...])\n",
    "print(c[...,1])\n",
    "print(c[...,2])\n",
    "#print(c[...,3]) ERROR"
   ]
  },
  {
   "cell_type": "code",
   "execution_count": 9,
   "metadata": {},
   "outputs": [
    {
     "name": "stdout",
     "output_type": "stream",
     "text": [
      "[[ 0  1  2  3]\n",
      " [10 11 12 13]\n",
      " [20 21 22 23]\n",
      " [30 31 32 33]\n",
      " [40 41 42 43]]\n",
      "------For Loop -------------\n",
      "[0 1 2 3]\n",
      "[10 11 12 13]\n",
      "[20 21 22 23]\n",
      "[30 31 32 33]\n",
      "[40 41 42 43]\n",
      " Flat elements \n",
      "0\n",
      "1\n",
      "2\n",
      "3\n",
      "10\n",
      "11\n",
      "12\n",
      "13\n",
      "20\n",
      "21\n",
      "22\n",
      "23\n",
      "30\n",
      "31\n",
      "32\n",
      "33\n",
      "40\n",
      "41\n",
      "42\n",
      "43\n"
     ]
    }
   ],
   "source": [
    "#Iterating over multidimensional arrays is done with respect to the first axis:\n",
    "\n",
    "print(b)\n",
    "print(\"------For Loop -------------\")\n",
    "for row in b:\n",
    "    print(row)\n",
    "print(\" Flat elements \")\n",
    "for element in b.flat:\n",
    "    print(element)"
   ]
  },
  {
   "cell_type": "code",
   "execution_count": 10,
   "metadata": {},
   "outputs": [
    {
     "name": "stdout",
     "output_type": "stream",
     "text": [
      "[[ 8.  0.  5.  7.]\n",
      " [ 2.  7.  9.  1.]\n",
      " [ 3.  3.  7.  4.]]\n",
      "(3, 4)\n",
      "[ 8.  0.  5.  7.  2.  7.  9.  1.  3.  3.  7.  4.]\n",
      "[[ 8.  0.]\n",
      " [ 5.  7.]\n",
      " [ 2.  7.]\n",
      " [ 9.  1.]\n",
      " [ 3.  3.]\n",
      " [ 7.  4.]]\n",
      "[[ 8.  2.  3.]\n",
      " [ 0.  7.  3.]\n",
      " [ 5.  9.  7.]\n",
      " [ 7.  1.  4.]]\n",
      "(4, 3)\n"
     ]
    }
   ],
   "source": [
    "#Shape Manipulation\n",
    "a = np.floor(10*np.random.random((3,4)))\n",
    "print(a)\n",
    "print(a.shape)\n",
    "#The shape of an array can be changed with various commands. Note that the following three commands all return a modified array, but do not change the original array:\n",
    "\n",
    "print(a.ravel()) # returns the array, flattened\n",
    "print(a.reshape(6,2)) #return array with modified shape\n",
    "print(a.T) #returns the array, transposed\n",
    "\n",
    "print(a.T.shape)"
   ]
  },
  {
   "cell_type": "code",
   "execution_count": 129,
   "metadata": {},
   "outputs": [
    {
     "name": "stdout",
     "output_type": "stream",
     "text": [
      "[[ 4.  1.  4.  8.  0.  6.]\n",
      " [ 6.  0.  6.  9.  4.  2.]]\n",
      "[[ 4.  1.  4.  8.  0.  6.]\n",
      " [ 6.  0.  6.  9.  4.  2.]]\n",
      "[[ 4.  1.  4.  8.]\n",
      " [ 0.  6.  6.  0.]\n",
      " [ 6.  9.  4.  2.]]\n"
     ]
    }
   ],
   "source": [
    "print(a)\n",
    "a.resize((2,6))\n",
    "print(a)\n",
    "#If a dimension is given as -1 in a reshaping operation, the other dimensions are automatically calculated:\n",
    "print(a.reshape(3,-1))"
   ]
  },
  {
   "cell_type": "code",
   "execution_count": 11,
   "metadata": {},
   "outputs": [
    {
     "name": "stdout",
     "output_type": "stream",
     "text": [
      "[[ 9.  3.]\n",
      " [ 9.  9.]]\n",
      "[[ 8.  4.]\n",
      " [ 5.  9.]]\n",
      "-------vstack--------\n",
      "[[ 9.  3.]\n",
      " [ 9.  9.]\n",
      " [ 8.  4.]\n",
      " [ 5.  9.]]\n",
      "[[ 9.  3.  8.  4.  8.  3.]\n",
      " [ 9.  9.  5.  9.  6.  7.]]\n"
     ]
    }
   ],
   "source": [
    "#Stacking together different arrays\n",
    "a = np.floor(10*np.random.random((2,2)))\n",
    "print(a)\n",
    "\n",
    "b = np.floor(10*np.random.random((2,2)))\n",
    "c = np.floor(10*np.random.random((2,2)))\n",
    "\n",
    "print(b)\n",
    "print(\"-------vstack--------\")\n",
    "print(np.vstack((a,b))) #Vertical\n",
    "print(np.hstack((a,b,c))) #Horizontal"
   ]
  },
  {
   "cell_type": "code",
   "execution_count": 13,
   "metadata": {
    "scrolled": true
   },
   "outputs": [
    {
     "name": "stdout",
     "output_type": "stream",
     "text": [
      "[[ 4.  2.]\n",
      " [ 3.  8.]]\n",
      "[ 4.  3.]\n",
      "[ 2.  8.]\n",
      "[[ 4.]\n",
      " [ 3.]]\n",
      "------------------------------------\n",
      "[[ 4.  2.]\n",
      " [ 3.  8.]]\n",
      "[[ 4.]\n",
      " [ 3.]\n",
      " [ 2.]\n",
      " [ 8.]]\n",
      "[[ 4.  2.]\n",
      " [ 3.  8.]]\n"
     ]
    }
   ],
   "source": [
    "from numpy import newaxis\n",
    "print(np.column_stack((a,b)))\n",
    "\n",
    "a = np.array([4.,3.])\n",
    "print(a)\n",
    "\n",
    "b = np.array((2.,8.0))\n",
    "print(b)\n",
    "print(a[:,newaxis]) # This allows to have a 2D columns vector\n",
    "\n",
    "print('------------------------------------')\n",
    "print(np.column_stack((a[:,newaxis], b[:,newaxis])))\n",
    "\n",
    "print(np.vstack((a[:,newaxis], b[:,newaxis])))\n",
    "print(np.hstack((a[:,newaxis], b[:,newaxis])))"
   ]
  },
  {
   "cell_type": "code",
   "execution_count": 19,
   "metadata": {},
   "outputs": [
    {
     "name": "stdout",
     "output_type": "stream",
     "text": [
      "[1 2 3 0 4]\n",
      "[[4 0 4]]\n"
     ]
    }
   ],
   "source": [
    "#In complex cases, r_ and c_ are useful for creating arrays by stacking numbers along one axis. They allow the use of range literals (”:”)\n",
    "\n",
    "print(np.r_[1:4,0,4])\n",
    "print(np.c_[4,0,4])"
   ]
  },
  {
   "cell_type": "code",
   "execution_count": 29,
   "metadata": {
    "scrolled": true
   },
   "outputs": [
    {
     "name": "stdout",
     "output_type": "stream",
     "text": [
      "[[ 2.  0.  3.  5.  5.  9.  0.  0.  1.  9.  1.  2.]\n",
      " [ 7.  5.  1.  7.  7.  6.  9.  7.  9.  6.  6.  0.]]\n",
      "[array([[ 2.,  0.,  3.,  5.],\n",
      "       [ 7.,  5.,  1.,  7.]]), array([[ 5.,  9.,  0.,  0.],\n",
      "       [ 7.,  6.,  9.,  7.]]), array([[ 1.,  9.,  1.,  2.],\n",
      "       [ 9.,  6.,  6.,  0.]])]\n",
      "[array([[ 2.,  0.,  3.],\n",
      "       [ 7.,  5.,  1.]]), array([[ 5.],\n",
      "       [ 7.]]), array([[ 5.,  9.,  0.,  0.,  1.,  9.,  1.,  2.],\n",
      "       [ 7.,  6.,  9.,  7.,  9.,  6.,  6.,  0.]])]\n",
      "[[ 2.  0.  3.  5.  5.  9.  0.  0.  1.  9.  1.  2.]\n",
      " [ 7.  5.  1.  7.  7.  6.  9.  7.  9.  6.  6.  0.]]\n"
     ]
    }
   ],
   "source": [
    "#Splitting one array into several smaller ones\n",
    "a =  np.floor(10*np.random.random((2,12)))\n",
    "\n",
    "print(a)\n",
    "\n",
    "print(np.hsplit(a,3)) #Split array a into 4 subarray\n",
    "print(np.hsplit(a,(3,4))) #Split a after 3rd and 4th column\n",
    "\n",
    "print(a)"
   ]
  },
  {
   "cell_type": "code",
   "execution_count": 61,
   "metadata": {},
   "outputs": [
    {
     "name": "stdout",
     "output_type": "stream",
     "text": [
      "[ 0  1  2  3  4  5  6  7  8  9 10 11]\n",
      "-------------------------------------\n",
      "\n",
      "[ 0  1  2  3  4  5  6  7  8  9 10 11]\n",
      "[[ 0  1  2  3]\n",
      " [ 4  5  6  7]\n",
      " [ 8  9 10 11]]\n",
      "True\n",
      "[[ 0  1  2  3]\n",
      " [ 4  5  6  7]\n",
      " [ 8  9 10 11]]\n",
      "-------------------------------\n",
      "Sahpe of a  (3, 4)\n",
      "Shape of b  (3, 4)\n",
      "-----------------------------\n",
      "ID of a is 96339328 and ID b is 96339328 \n",
      "96339328\n",
      "96339328\n",
      "False\n",
      "[[ 0  1  2  3]\n",
      " [ 4  5  6  7]\n",
      " [ 8  9 10 11]]\n",
      "True\n",
      "False\n",
      "True\n",
      "(3, 4)\n",
      "(3, 4)\n",
      "[[   0    1    2    3 1234    5]\n",
      " [   6    7    8    9   10   11]]\n",
      "[[   0    1    2    3]\n",
      " [1234    5    6    7]\n",
      " [   8    9   10   11]]\n",
      "[[ 1  2]\n",
      " [ 5  6]\n",
      " [ 9 10]]\n",
      "[[   0    1    2    3]\n",
      " [1234    5    6    7]\n",
      " [   8    9   10   11]]\n",
      "[[   0   10   10    3]\n",
      " [1234   10   10    7]\n",
      " [   8   10   10   11]]\n"
     ]
    }
   ],
   "source": [
    "#Copies and Views\n",
    "#1 No copy at all\n",
    "a = np.arange(12)\n",
    "b = a #No new array is created\n",
    "b is a # a and b are two names pointing same ndarray object\n",
    "print(a)\n",
    "print(\"-------------------------------------\\n\")\n",
    "print(b)\n",
    "\n",
    "b.shape = 3,4 #change the shape of b\n",
    "print(b)\n",
    "print(b is a ) # a is also changed bcoz both pointing the same object\n",
    "print(a)\n",
    "print(\"-------------------------------\")\n",
    "print(\"Sahpe of a \", a.shape)\n",
    "print(\"Shape of b \", b.shape)\n",
    "\n",
    "print(\"-----------------------------\")\n",
    "print(\"ID of a is %d and ID b is %d \"%(id(a),id(b)))\n",
    "\n",
    "#Python passes mutable objects as references, so function calls make no copy.\n",
    "\n",
    "def f(x):\n",
    "    return id(x)\n",
    "\n",
    "print(id(a))\n",
    "print(f(a))\n",
    "\n",
    "#View or Shallow Copy\n",
    "\n",
    "c = a.view()\n",
    "print(c is a)\n",
    "\n",
    "print(c.base)\n",
    "print(c.base is a) # c is a view of the data owned by a\n",
    "print(c.flags.owndata)\n",
    "print(a.flags.owndata)\n",
    "print(c.shape)\n",
    "c.shape = 2,6\n",
    "print(a.shape)\n",
    "c[0,4] = 1234\n",
    "print(c)\n",
    "print(a)\n",
    "\n",
    "#-------------------------------------\n",
    "#Slicing an array returns a view of it:\n",
    "\n",
    "s = a[:, 1:3]  # spaces added for clarity; could also be written \"s = a[:,1:3]\"\n",
    "print(s)\n",
    "print(a)\n",
    "s[:] = 10  # s[:] is a view of s. Note the difference between s=10 and s[:]=10\n",
    "print(a)"
   ]
  },
  {
   "cell_type": "code",
   "execution_count": 69,
   "metadata": {},
   "outputs": [
    {
     "name": "stdout",
     "output_type": "stream",
     "text": [
      "False\n",
      "[[   0   10   10    3]\n",
      " [1234   10   10    7]\n",
      " [   8   10   10   11]]\n",
      "[[   0   10   10    3]\n",
      " [1234   10   10    7]\n",
      " [   8   10   10   11]]\n",
      "None\n",
      "--------d--------------\n",
      "[[9999   10   10    3]\n",
      " [1234   10   10    7]\n",
      " [   8   10   10   11]]\n",
      "--------a--------------\n",
      "[[   0   10   10    3]\n",
      " [1234   10   10    7]\n",
      " [   8   10   10   11]]\n"
     ]
    }
   ],
   "source": [
    "#Deep Copy \n",
    "d = a.copy() # A new array object with data is created\n",
    "print(d is a) \n",
    "print(a)\n",
    "print(d)\n",
    "print(d.base) # d dosn't share anything with a\n",
    "d[0,0] = 9999\n",
    "print(\"--------d--------------\")\n",
    "print(d)\n",
    "print(\"--------a--------------\")\n",
    "print(a)"
   ]
  },
  {
   "cell_type": "code",
   "execution_count": 77,
   "metadata": {},
   "outputs": [
    {
     "name": "stdout",
     "output_type": "stream",
     "text": [
      "[  0   1   4   9  16  25  36  49  64  81 100 121]\n",
      "[ 1  1  9 64 25]\n",
      "[[3 4]\n",
      " [9 7]]\n",
      "[[ 9 16]\n",
      " [81 49]]\n"
     ]
    }
   ],
   "source": [
    "#Fancy indexing and index tricks\n",
    "a = np.arange(12)**2 # The first 12 square numbers\n",
    "print(a)\n",
    "i = np.array([1,1,3,8,5])  # A n array of indices\n",
    "print(a[i])\n",
    "\n",
    "j = np.array([[3, 4],[9,7]]) #Bidimentional array of indices\n",
    "print(j)\n",
    "print(a[j])"
   ]
  },
  {
   "cell_type": "code",
   "execution_count": 78,
   "metadata": {},
   "outputs": [
    {
     "name": "stdout",
     "output_type": "stream",
     "text": [
      "[[[  0   0   0]\n",
      "  [255   0   0]\n",
      "  [  0 255   0]\n",
      "  [  0   0   0]]\n",
      "\n",
      " [[  0   0   0]\n",
      "  [  0   0 255]\n",
      "  [255 255 255]\n",
      "  [  0   0   0]]]\n"
     ]
    }
   ],
   "source": [
    "palette = np.array([[0,0,0],          #black\n",
    "                   [255,0,0],         #red\n",
    "                   [0,255,0],         #green\n",
    "                   [0,0,255],         #blue\n",
    "                   [255,255,255] ])   #white\n",
    "\n",
    "image = np.array([ [ 0, 1, 2, 0],\n",
    "                   [0, 3, 4, 0] ]) # each value corresponds to a color in the palette\n",
    "print(palette[image])"
   ]
  },
  {
   "cell_type": "code",
   "execution_count": 96,
   "metadata": {},
   "outputs": [
    {
     "name": "stdout",
     "output_type": "stream",
     "text": [
      "[[ 0  1  2  3]\n",
      " [ 4  5  6  7]\n",
      " [ 8  9 10 11]]\n",
      "------------------------------\n",
      "[[[ 0  1  2  3]\n",
      "  [ 4  5  6  7]]\n",
      "\n",
      " [[ 4  5  6  7]\n",
      "  [ 8  9 10 11]]]\n",
      "------------------------------\n",
      "[[ 2  5]\n",
      " [ 7 11]]\n",
      "------------------------------\n",
      "[[ 2  6]\n",
      " [ 6 10]]\n",
      "------------------------------\n",
      "[[[ 2  1]\n",
      "  [ 3  3]]\n",
      "\n",
      " [[ 6  5]\n",
      "  [ 7  7]]\n",
      "\n",
      " [[10  9]\n",
      "  [11 11]]]\n",
      "[[ 0  1  2  3]\n",
      " [ 4  5  6  7]\n",
      " [ 8  9 10 11]]\n"
     ]
    }
   ],
   "source": [
    "a = np.arange(12).reshape(3,4)\n",
    "print(a)\n",
    "\n",
    "i = np.array([ [0,1],\n",
    "               [1,2] ])\n",
    "j = np.array([ [2,1],\n",
    "               [3,3] ])\n",
    "print(\"------------------------------\")\n",
    "print(a[i])\n",
    "print(\"------------------------------\")\n",
    "#print(a[j]) IndexError\n",
    "print(a[i,j])\n",
    "print(\"------------------------------\")\n",
    "print(a[i,2])\n",
    "print(\"------------------------------\")\n",
    "print(a[:,j])\n",
    "print(a[:])"
   ]
  },
  {
   "cell_type": "code",
   "execution_count": 129,
   "metadata": {},
   "outputs": [
    {
     "name": "stdout",
     "output_type": "stream",
     "text": [
      "[  20.     51.25   82.5   113.75  145.  ]\n",
      "[[ 0.          0.84147098  0.90929743  0.14112001]\n",
      " [-0.7568025  -0.95892427 -0.2794155   0.6569866 ]\n",
      " [ 0.98935825  0.41211849 -0.54402111 -0.99999021]\n",
      " [-0.53657292  0.42016704  0.99060736  0.65028784]\n",
      " [-0.28790332 -0.96139749 -0.75098725  0.14987721]]\n",
      "--------------------------------\n",
      "[2 0 3 1]\n",
      "[  82.5    20.    113.75   51.25]\n"
     ]
    }
   ],
   "source": [
    "time = np.linspace(20, 145, 5)\n",
    "data = np.sin(np.arange(20)).reshape(5,4)\n",
    "print(time)\n",
    "print(data)\n",
    "print(\"--------------------------------\")\n",
    "ind = data.argmax(axis=0)\n",
    "print(ind)\n",
    "time_max = time[ind]\n",
    "print(time_max)"
   ]
  },
  {
   "cell_type": "code",
   "execution_count": 138,
   "metadata": {},
   "outputs": [
    {
     "name": "stdout",
     "output_type": "stream",
     "text": [
      "[0 1 2 3 4]\n",
      "[0 0 2 0 0]\n",
      "------------------------\n",
      "[0 1 2 3 4]\n",
      "[2 1 3 3 4]\n",
      "===========================\n",
      "[0 1 2 3 4]\n",
      "[1 1 3 3 4]\n"
     ]
    }
   ],
   "source": [
    "a = np.arange(5)\n",
    "print(a)\n",
    "a[[1,3,4]] = 0\n",
    "print(a)\n",
    "print(\"------------------------\")\n",
    "a = np.arange(5)\n",
    "print(a)\n",
    "a[[0,0,2]] = [1,2,3]\n",
    "print(a)\n",
    "print(\"===========================\")\n",
    "a = np.arange(5)\n",
    "print(a)\n",
    "a[[0,0,2]] +=1\n",
    "print(a)"
   ]
  },
  {
   "cell_type": "code",
   "execution_count": 143,
   "metadata": {},
   "outputs": [
    {
     "name": "stdout",
     "output_type": "stream",
     "text": [
      "[[ 0  1  2  3]\n",
      " [ 4  5  6  7]\n",
      " [ 8  9 10 11]]\n",
      "[[False False False False]\n",
      " [False  True  True  True]\n",
      " [ True  True  True  True]]\n",
      "[ 5  6  7  8  9 10 11]\n",
      "[[0 1 2 3]\n",
      " [4 0 0 0]\n",
      " [0 0 0 0]]\n"
     ]
    }
   ],
   "source": [
    "#Indexing with Boolean Arrays\n",
    "a = np.arange(12).reshape(3,4)\n",
    "print(a)\n",
    "b = a > 4 # b is a boolean with a's shape\n",
    "print(b)\n",
    "\n",
    "print(a[b]) # 1d array with the selected elements\n",
    "\n",
    "#This property can be very useful in assignments:\n",
    "a[b] = 0  # All elements of 'a' higher than 4 become 0\n",
    "print(a)"
   ]
  },
  {
   "cell_type": "code",
   "execution_count": 148,
   "metadata": {},
   "outputs": [
    {
     "data": {
      "image/png": "[encoded data removed]",
      "text/plain": [
       "<matplotlib.figure.Figure at 0x78cd390>"
      ]
     },
     "metadata": {},
     "output_type": "display_data"
    }
   ],
   "source": [
    "#You can look at the following example to see how to use boolean indexing to generate an image of the Mandelbrot set:\n",
    "\n",
    "import numpy as np\n",
    "import matplotlib.pyplot as plt\n",
    "\n",
    "def mandelbrot(h, w, maxit=20 ):\n",
    "    \"\"\"Returns an image of the Mandelbrot fractal of size (h,w).\"\"\"\n",
    "    y, x = np.ogrid[ -1.4:1.4:h*1j , -2:0.8:w*1j]\n",
    "    c = x+y*1j\n",
    "    z = c\n",
    "    divtime = maxit + np.zeros(z.shape, dtype=int)\n",
    "    \n",
    "    for i in range(maxit):\n",
    "        z = z**2 + c\n",
    "        diverge = z*np.conj(z) > 2**2\n",
    "        div_now = diverge & (divtime == maxit)\n",
    "        divtime[div_now] = i\n",
    "        z[diverge] = 2\n",
    "    return divtime\n",
    "\n",
    "plt.imshow(mandelbrot(400, 400))\n",
    "plt.show()"
   ]
  },
  {
   "cell_type": "code",
   "execution_count": 158,
   "metadata": {},
   "outputs": [
    {
     "name": "stdout",
     "output_type": "stream",
     "text": [
      "[[ 0  1  2  3]\n",
      " [ 4  5  6  7]\n",
      " [ 8  9 10 11]]\n",
      "[False  True  True]\n",
      "[ True False  True False]\n",
      "----------------------\n",
      "[[ 4  5  6  7]\n",
      " [ 8  9 10 11]]\n",
      "========================\n",
      "[[ 4  5  6  7]\n",
      " [ 8  9 10 11]]\n",
      "[[ 0  2]\n",
      " [ 4  6]\n",
      " [ 8 10]]\n",
      "---------------------------\n",
      "[ 4 10]\n"
     ]
    }
   ],
   "source": [
    "a = np.arange(12).reshape(3,4)\n",
    "b1 = np.array([False, True, True]) # First dim selection\n",
    "b2 = np.array([True, False, True, False]) # Second dim selection\n",
    "print(a)\n",
    "print(b1)\n",
    "print(b2)\n",
    "print(\"----------------------\")\n",
    "print(a[b1, :])# selecting a having True rows\n",
    "\n",
    "print(\"========================\")\n",
    "print(a[b1])\n",
    "print(a[: ,b2])\n",
    "print(\"---------------------------\")\n",
    "print(a[b1, b2])"
   ]
  },
  {
   "cell_type": "code",
   "execution_count": 172,
   "metadata": {},
   "outputs": [
    {
     "name": "stdout",
     "output_type": "stream",
     "text": [
      "[[[2]]\n",
      "\n",
      " [[3]]\n",
      "\n",
      " [[4]]\n",
      "\n",
      " [[5]]]\n",
      "===============\n",
      "[[[8]\n",
      "  [5]\n",
      "  [4]]]\n",
      "===============\n",
      "[[[5 4 6 8 3]]]\n",
      "-----------------\n",
      "(4, 1, 1)\n",
      "(1, 3, 1)\n",
      "(1, 1, 5)\n",
      "(4,)\n",
      "[[[ 80  64  96 128  48]\n",
      "  [ 50  40  60  80  30]\n",
      "  [ 40  32  48  64  24]]\n",
      "\n",
      " [[120  96 144 192  72]\n",
      "  [ 75  60  90 120  45]\n",
      "  [ 60  48  72  96  36]]\n",
      "\n",
      " [[160 128 192 256  96]\n",
      "  [100  80 120 160  60]\n",
      "  [ 80  64  96 128  48]]\n",
      "\n",
      " [[200 160 240 320 120]\n",
      "  [125 100 150 200  75]\n",
      "  [100  80 120 160  60]]]\n",
      "60\n",
      "17\n"
     ]
    }
   ],
   "source": [
    "#The ix_() function\n",
    "a = np.array([2,3,4,5])\n",
    "b = np.array([8,5,4])\n",
    "c = np.array([5,4,6,8,3])\n",
    "ax, bx , cx = np.ix_(a,b,c)\n",
    "print(ax) #3d array\n",
    "#x, y = np.ix_(a,b)\n",
    "#print(x) #2D array\n",
    "print('===============')\n",
    "print(bx)\n",
    "print('===============')\n",
    "print(cx)\n",
    "print(\"-----------------\")\n",
    "print(ax.shape)\n",
    "print(bx.shape)\n",
    "print(cx.shape)\n",
    "print(a.shape)\n",
    "\n",
    "result = ax * bx * cx\n",
    "print(result)\n",
    "print(result[3,2,4])\n",
    "print(a[3]+b[2]*c[4])"
   ]
  },
  {
   "cell_type": "code",
   "execution_count": 175,
   "metadata": {},
   "outputs": [
    {
     "data": {
      "text/plain": [
       "array([[[15, 14, 16, 18, 13],\n",
       "        [12, 11, 13, 15, 10],\n",
       "        [11, 10, 12, 14,  9]],\n",
       "\n",
       "       [[16, 15, 17, 19, 14],\n",
       "        [13, 12, 14, 16, 11],\n",
       "        [12, 11, 13, 15, 10]],\n",
       "\n",
       "       [[17, 16, 18, 20, 15],\n",
       "        [14, 13, 15, 17, 12],\n",
       "        [13, 12, 14, 16, 11]],\n",
       "\n",
       "       [[18, 17, 19, 21, 16],\n",
       "        [15, 14, 16, 18, 13],\n",
       "        [14, 13, 15, 17, 12]]])"
      ]
     },
     "execution_count": 175,
     "metadata": {},
     "output_type": "execute_result"
    }
   ],
   "source": [
    "#You could also implement the reduce as follows:\n",
    "def ufunc_reduce(ufct, *vectors):\n",
    "    vs = np.ix_(*vectors)\n",
    "    r = ufct.identity\n",
    "    for v in vs:\n",
    "        r = ufct(r, v)\n",
    "    return r\n",
    "\n",
    "ufunc_reduce(np.add, a, b, c)"
   ]
  },
  {
   "cell_type": "code",
   "execution_count": 195,
   "metadata": {},
   "outputs": [
    {
     "name": "stdout",
     "output_type": "stream",
     "text": [
      "[[ 1.  2.]\n",
      " [ 3.  4.]]\n",
      "[[ 1.  3.]\n",
      " [ 2.  4.]]\n",
      "[[-2.   1. ]\n",
      " [ 1.5 -0.5]]\n",
      "-----------------\n",
      "[[ 1.  0.]\n",
      " [ 0.  1.]]\n",
      "----------------\n",
      "[[-1.  0.]\n",
      " [ 0. -1.]]\n",
      "2.0\n",
      "[[-3.]\n",
      " [ 4.]]\n",
      "(array([ 0.+1.j,  0.-1.j]), array([[ 0.70710678+0.j        ,  0.70710678-0.j        ],\n",
      "       [ 0.00000000-0.70710678j,  0.00000000+0.70710678j]]))\n"
     ]
    }
   ],
   "source": [
    "#Linear Algebra\n",
    "#Simple array operations \n",
    "a = np.array([[1.0, 2.0],[3.0,4.0]])\n",
    "print(a)\n",
    "#transpose of array\n",
    "print(a.transpose())\n",
    "\n",
    "print(np.linalg.inv(a))\n",
    "#\n",
    "u = np.eye(2) #Identity\n",
    "print(\"-----------------\")\n",
    "print(u)\n",
    "print(\"----------------\")\n",
    "j = np.array([[0.0, -1.0], [1.0, 0.0]])\n",
    "print(np.dot(j, j)) #Matrix product\n",
    "print(np.trace(u)) #trace\n",
    "#---------------------\n",
    "y = np.array([[5.], [7.]])\n",
    "\n",
    "print(np.linalg.solve(a, y))\n",
    "print(np.linalg.eig(j))"
   ]
  },
  {
   "cell_type": "code",
   "execution_count": 203,
   "metadata": {},
   "outputs": [
    {
     "name": "stdout",
     "output_type": "stream",
     "text": [
      "(30,)\n",
      "[[[ 0  1  2]\n",
      "  [ 3  4  5]\n",
      "  [ 6  7  8]\n",
      "  [ 9 10 11]\n",
      "  [12 13 14]]\n",
      "\n",
      " [[15 16 17]\n",
      "  [18 19 20]\n",
      "  [21 22 23]\n",
      "  [24 25 26]\n",
      "  [27 28 29]]]\n"
     ]
    }
   ],
   "source": [
    "# “Automatic” Reshaping\n",
    "a = np.arange(30)\n",
    "print(a.shape)\n",
    "a.shape = 2,-1, 3 # -1 means whatever is needed\n",
    "print(a)\n"
   ]
  },
  {
   "cell_type": "code",
   "execution_count": 204,
   "metadata": {},
   "outputs": [
    {
     "data": {
      "image/png": "[encoded data removed]",
      "text/plain": [
       "<matplotlib.figure.Figure at 0x7dfbf28>"
      ]
     },
     "metadata": {},
     "output_type": "display_data"
    }
   ],
   "source": [
    "import numpy as np\n",
    "import matplotlib.pyplot as plt\n",
    "# Build a vector of 10000 normal deviates with variance 0.5^2 and mean 2\n",
    "mu, sigma = 2, 0.5\n",
    "v = np.random.normal(mu,sigma,10000)\n",
    "# Plot a normalized histogram with 50 bins\n",
    "plt.hist(v, bins=50, normed=1)       # matplotlib version (plot)\n",
    "plt.show()"
   ]
  },
  {
   "cell_type": "code",
   "execution_count": 206,
   "metadata": {},
   "outputs": [
    {
     "data": {
      "image/png": "[encoded data removed]",
      "text/plain": [
       "<matplotlib.figure.Figure at 0x8208cc0>"
      ]
     },
     "metadata": {},
     "output_type": "display_data"
    }
   ],
   "source": [
    "# Compute the histogram with numpy and then plot it\n",
    "(n, bins) = np.histogram(v, bins=50, normed=True)  # NumPy version (no plot)\n",
    "plt.plot(.5*(bins[1:]+bins[:-1]), n)\n",
    "plt.show()"
   ]
  }
 ],
 "metadata": {
  "kernelspec": {
   "display_name": "Python 3",
   "language": "python",
   "name": "python3"
  },
  "language_info": {
   "codemirror_mode": {
    "name": "ipython",
    "version": 3
   },
   "file_extension": ".py",
   "mimetype": "text/x-python",
   "name": "python",
   "nbconvert_exporter": "python",
   "pygments_lexer": "ipython3",
   "version": "3.6.1"
  }
 },
 "nbformat": 4,
 "nbformat_minor": 2
}
